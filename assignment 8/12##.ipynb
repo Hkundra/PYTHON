{
 "cells": [
  {
   "cell_type": "code",
   "execution_count": 1,
   "id": "8b9ebcc3",
   "metadata": {},
   "outputs": [],
   "source": [
    "original_list = [('English', 88), ('Science', 90), ('Maths', 97), ('Social sciences', 82)]\n",
    "\n",
    "sorted_list = sorted(original_list, key=lambda x: x[1])\n",
    "\n",
    "print(\"Original list of tuples:\", original_list)\n",
    "print(\"Sorting the List of Tuples:\", sorted_list)\n",
    "\n"
   ]
  },
  {
   "cell_type": "code",
   "execution_count": 2,
   "id": "7dd45755",
   "metadata": {},
   "outputs": [],
   "source": [
    "Original list of tuples: [('English', 88), ('Science', 90), ('Maths', 97), ('Social sciences', 82)]\n",
    "Sorting the List of Tuples: [('Social sciences', 82), ('English', 88), ('Science', 90), ('Maths', 97)]\n"
   ]
  },
  {
   "cell_type": "code",
   "execution_count": null,
   "id": "7dc5d957",
   "metadata": {},
   "outputs": [],
   "source": []
  }
 ],
 "metadata": {
  "kernelspec": {
   "display_name": "Python 3 (ipykernel)",
   "language": "python",
   "name": "python3"
  },
  "language_info": {
   "codemirror_mode": {
    "name": "ipython",
    "version": 3
   },
   "file_extension": ".py",
   "mimetype": "text/x-python",
   "name": "python",
   "nbconvert_exporter": "python",
   "pygments_lexer": "ipython3",
   "version": "3.10.10"
  }
 },
 "nbformat": 4,
 "nbformat_minor": 5
}
