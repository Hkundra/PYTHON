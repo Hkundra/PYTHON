{
 "cells": [
  {
   "cell_type": "code",
   "execution_count": 1,
   "id": "a32b784e",
   "metadata": {},
   "outputs": [],
   "source": [
    "class SubsetGenerator:\n",
    "    def subsets(self, nums):\n",
    "        result = [[]]\n",
    "        for num in nums:\n",
    "            result += [subset + [num] for subset in result]\n",
    "        return result\n"
   ]
  },
  {
   "cell_type": "code",
   "execution_count": 2,
   "id": "a45545cc",
   "metadata": {},
   "outputs": [
    {
     "name": "stdout",
     "output_type": "stream",
     "text": [
      "[[], [4], [5], [4, 5], [6], [4, 6], [5, 6], [4, 5, 6]]\n"
     ]
    }
   ],
   "source": [
    "generator = SubsetGenerator()\n",
    "\n",
    "\n",
    "subsets = generator.subsets([4, 5, 6])\n",
    "print(subsets)  \n"
   ]
  },
  {
   "cell_type": "code",
   "execution_count": null,
   "id": "2f7991eb",
   "metadata": {},
   "outputs": [],
   "source": []
  }
 ],
 "metadata": {
  "kernelspec": {
   "display_name": "Python 3 (ipykernel)",
   "language": "python",
   "name": "python3"
  },
  "language_info": {
   "codemirror_mode": {
    "name": "ipython",
    "version": 3
   },
   "file_extension": ".py",
   "mimetype": "text/x-python",
   "name": "python",
   "nbconvert_exporter": "python",
   "pygments_lexer": "ipython3",
   "version": "3.10.10"
  }
 },
 "nbformat": 4,
 "nbformat_minor": 5
}
