{
 "cells": [
  {
   "cell_type": "code",
   "execution_count": null,
   "id": "f863c604",
   "metadata": {},
   "outputs": [],
   "source": [
    "converter = RomanNumeralConverter()\n",
    "\n",
    "\n",
    "roman_numeral = converter.integer_to_roman(1234)\n",
    "print(roman_numeral)  \n",
    "\n",
    "\n",
    "integer = converter.roman_to_integer(\"MCCXXXIV\")\n",
    "print(integer)  \n"
   ]
  }
 ],
 "metadata": {
  "kernelspec": {
   "display_name": "Python 3 (ipykernel)",
   "language": "python",
   "name": "python3"
  },
  "language_info": {
   "codemirror_mode": {
    "name": "ipython",
    "version": 3
   },
   "file_extension": ".py",
   "mimetype": "text/x-python",
   "name": "python",
   "nbconvert_exporter": "python",
   "pygments_lexer": "ipython3",
   "version": "3.10.10"
  }
 },
 "nbformat": 4,
 "nbformat_minor": 5
}
