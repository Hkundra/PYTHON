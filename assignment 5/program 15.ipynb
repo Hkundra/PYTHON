{
 "cells": [
  {
   "cell_type": "code",
   "execution_count": 1,
   "id": "0f7becfa",
   "metadata": {},
   "outputs": [
    {
     "name": "stdout",
     "output_type": "stream",
     "text": [
      "t 2\n",
      "h 2\n",
      "e 3\n",
      "u 2\n",
      "r 2\n",
      "o 4\n"
     ]
    }
   ],
   "source": [
    "str='thequickbrownfoxjumpsoverthelazydog'\n",
    "dict={}\n",
    "for i in str:\n",
    "    if i in dict:\n",
    "         dict[i]+= 1\n",
    "    else:\n",
    "        dict[i]=1\n",
    "for char,i in dict.items():\n",
    "    if i>1:\n",
    "        print(char,i)"
   ]
  },
  {
   "cell_type": "code",
   "execution_count": null,
   "id": "c0809280",
   "metadata": {},
   "outputs": [],
   "source": []
  }
 ],
 "metadata": {
  "kernelspec": {
   "display_name": "Python 3 (ipykernel)",
   "language": "python",
   "name": "python3"
  },
  "language_info": {
   "codemirror_mode": {
    "name": "ipython",
    "version": 3
   },
   "file_extension": ".py",
   "mimetype": "text/x-python",
   "name": "python",
   "nbconvert_exporter": "python",
   "pygments_lexer": "ipython3",
   "version": "3.10.10"
  }
 },
 "nbformat": 4,
 "nbformat_minor": 5
}
