{
 "cells": [
  {
   "cell_type": "code",
   "execution_count": 1,
   "id": "9cf00160",
   "metadata": {},
   "outputs": [
    {
     "name": "stdout",
     "output_type": "stream",
     "text": [
      "{'g': 2, 'o': 3, 'l': 1, 'e': 1, '.': 1, 'c': 1, 'm': 1}\n"
     ]
    }
   ],
   "source": [
    "string = \"google.com\"\n",
    "\n",
    "\n",
    "char_freq = {}\n",
    "\n",
    "\n",
    "for char in string:\n",
    "    \n",
    "    if char in char_freq:\n",
    "        char_freq[char] += 1\n",
    "    \n",
    "    else:\n",
    "        char_freq[char] = 1\n",
    "\n",
    "\n",
    "print(char_freq)\n"
   ]
  },
  {
   "cell_type": "code",
   "execution_count": null,
   "id": "04a40f24",
   "metadata": {},
   "outputs": [],
   "source": []
  }
 ],
 "metadata": {
  "kernelspec": {
   "display_name": "Python 3 (ipykernel)",
   "language": "python",
   "name": "python3"
  },
  "language_info": {
   "codemirror_mode": {
    "name": "ipython",
    "version": 3
   },
   "file_extension": ".py",
   "mimetype": "text/x-python",
   "name": "python",
   "nbconvert_exporter": "python",
   "pygments_lexer": "ipython3",
   "version": "3.10.10"
  }
 },
 "nbformat": 4,
 "nbformat_minor": 5
}
