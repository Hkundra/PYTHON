{
 "cells": [
  {
   "cell_type": "code",
   "execution_count": 1,
   "id": "ce6e2207",
   "metadata": {},
   "outputs": [
    {
     "name": "stdout",
     "output_type": "stream",
     "text": [
      "longest word in the string is program\n",
      "shortest word in the string is my\n"
     ]
    }
   ],
   "source": [
    "string=\"hello world was my first program\"\n",
    "split=string.split(\" \")\n",
    "s=sorted(split,key=len)\n",
    "print(\"longest word in the string is\",s[-1])\n",
    "print(\"shortest word in the string is\",s[0])"
   ]
  },
  {
   "cell_type": "code",
   "execution_count": null,
   "id": "83e7d5ef",
   "metadata": {},
   "outputs": [],
   "source": []
  }
 ],
 "metadata": {
  "kernelspec": {
   "display_name": "Python 3 (ipykernel)",
   "language": "python",
   "name": "python3"
  },
  "language_info": {
   "codemirror_mode": {
    "name": "ipython",
    "version": 3
   },
   "file_extension": ".py",
   "mimetype": "text/x-python",
   "name": "python",
   "nbconvert_exporter": "python",
   "pygments_lexer": "ipython3",
   "version": "3.10.10"
  }
 },
 "nbformat": 4,
 "nbformat_minor": 5
}
