{
 "cells": [
  {
   "cell_type": "code",
   "execution_count": 1,
   "id": "17abd324",
   "metadata": {},
   "outputs": [],
   "source": [
    "def firstlast(string):\n",
    "    if len(string)<2:\n",
    "        return print(\"Empty string\")\n",
    "    return print(string[:2]+string[-2:])\n"
   ]
  },
  {
   "cell_type": "code",
   "execution_count": 2,
   "id": "0fd86862",
   "metadata": {},
   "outputs": [
    {
     "name": "stdout",
     "output_type": "stream",
     "text": [
      "thne\n"
     ]
    }
   ],
   "source": [
    "firstlast(\"thisisniceone\")"
   ]
  },
  {
   "cell_type": "code",
   "execution_count": 3,
   "id": "55dfd404",
   "metadata": {},
   "outputs": [
    {
     "name": "stdout",
     "output_type": "stream",
     "text": [
      "abab\n"
     ]
    }
   ],
   "source": [
    "firstlast(\"ab\")"
   ]
  },
  {
   "cell_type": "code",
   "execution_count": 4,
   "id": "b31b3eb2",
   "metadata": {},
   "outputs": [
    {
     "name": "stdout",
     "output_type": "stream",
     "text": [
      "Empty string\n"
     ]
    }
   ],
   "source": [
    "firstlast(\"f\")"
   ]
  },
  {
   "cell_type": "code",
   "execution_count": null,
   "id": "5aed76bf",
   "metadata": {},
   "outputs": [],
   "source": []
  }
 ],
 "metadata": {
  "kernelspec": {
   "display_name": "Python 3 (ipykernel)",
   "language": "python",
   "name": "python3"
  },
  "language_info": {
   "codemirror_mode": {
    "name": "ipython",
    "version": 3
   },
   "file_extension": ".py",
   "mimetype": "text/x-python",
   "name": "python",
   "nbconvert_exporter": "python",
   "pygments_lexer": "ipython3",
   "version": "3.10.10"
  }
 },
 "nbformat": 4,
 "nbformat_minor": 5
}
