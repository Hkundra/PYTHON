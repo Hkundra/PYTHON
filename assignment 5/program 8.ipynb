{
 "cells": [
  {
   "cell_type": "code",
   "execution_count": 2,
   "id": "0fc0f3c4",
   "metadata": {},
   "outputs": [],
   "source": [
    "def find_longest_word(words):\n",
    "    \n",
    "    longest_word_length = 0\n",
    "\n",
    "    for word in words:\n",
    "    \n",
    "    \n",
    "        if len(word) > longest_word_length:\n",
    "            longest_word_length = len(word)\n",
    "\n",
    "    \n",
    "    return longest_word_length\n"
   ]
  },
  {
   "cell_type": "code",
   "execution_count": 3,
   "id": "b77a9bd6",
   "metadata": {},
   "outputs": [
    {
     "name": "stdout",
     "output_type": "stream",
     "text": [
      "10\n"
     ]
    }
   ],
   "source": [
    "word_list = ['cat', 'dog', 'elephant', 'giraffe', 'rhinoceros']\n",
    "longest_word_length = find_longest_word(word_list)\n",
    "print(longest_word_length) \n"
   ]
  },
  {
   "cell_type": "code",
   "execution_count": null,
   "id": "f7b6b9d5",
   "metadata": {},
   "outputs": [],
   "source": []
  }
 ],
 "metadata": {
  "kernelspec": {
   "display_name": "Python 3 (ipykernel)",
   "language": "python",
   "name": "python3"
  },
  "language_info": {
   "codemirror_mode": {
    "name": "ipython",
    "version": 3
   },
   "file_extension": ".py",
   "mimetype": "text/x-python",
   "name": "python",
   "nbconvert_exporter": "python",
   "pygments_lexer": "ipython3",
   "version": "3.10.10"
  }
 },
 "nbformat": 4,
 "nbformat_minor": 5
}
