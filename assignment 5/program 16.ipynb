{
 "cells": [
  {
   "cell_type": "code",
   "execution_count": 1,
   "id": "ccf185a4",
   "metadata": {},
   "outputs": [
    {
     "name": "stdout",
     "output_type": "stream",
     "text": [
      "Character 'H' has index 0\n",
      "Character 'e' has index 1\n",
      "Character 'l' has index 2\n",
      "Character 'l' has index 3\n",
      "Character 'o' has index 4\n",
      "Character ',' has index 5\n",
      "Character ' ' has index 6\n",
      "Character 'W' has index 7\n",
      "Character 'o' has index 8\n",
      "Character 'r' has index 9\n",
      "Character 'l' has index 10\n",
      "Character 'd' has index 11\n",
      "Character '!' has index 12\n"
     ]
    }
   ],
   "source": [
    "input_str = \"Hello, World!\"\n",
    "for index, char in enumerate(input_str):\n",
    "    print(f\"Character '{char}' has index {index}\")\n"
   ]
  },
  {
   "cell_type": "code",
   "execution_count": null,
   "id": "c198c571",
   "metadata": {},
   "outputs": [],
   "source": []
  }
 ],
 "metadata": {
  "kernelspec": {
   "display_name": "Python 3 (ipykernel)",
   "language": "python",
   "name": "python3"
  },
  "language_info": {
   "codemirror_mode": {
    "name": "ipython",
    "version": 3
   },
   "file_extension": ".py",
   "mimetype": "text/x-python",
   "name": "python",
   "nbconvert_exporter": "python",
   "pygments_lexer": "ipython3",
   "version": "3.10.10"
  }
 },
 "nbformat": 4,
 "nbformat_minor": 5
}
