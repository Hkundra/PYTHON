{
 "cells": [
  {
   "cell_type": "code",
   "execution_count": 2,
   "id": "18c8a318",
   "metadata": {},
   "outputs": [
    {
     "name": "stdout",
     "output_type": "stream",
     "text": [
      "emaS\n"
     ]
    }
   ],
   "source": [
    "def revString(input):\n",
    "    if len(input)%4==0:\n",
    "        print(input[::-1])\n",
    "    else:\n",
    "        print(' length of the string is not the multiple of 4')\n",
    "revString('Same')\n"
   ]
  },
  {
   "cell_type": "code",
   "execution_count": 3,
   "id": "70cc4832",
   "metadata": {},
   "outputs": [
    {
     "name": "stdout",
     "output_type": "stream",
     "text": [
      "dabredyH\n"
     ]
    }
   ],
   "source": [
    "revString('Hyderbad')"
   ]
  },
  {
   "cell_type": "code",
   "execution_count": null,
   "id": "b9fa869a",
   "metadata": {},
   "outputs": [],
   "source": []
  }
 ],
 "metadata": {
  "kernelspec": {
   "display_name": "Python 3 (ipykernel)",
   "language": "python",
   "name": "python3"
  },
  "language_info": {
   "codemirror_mode": {
    "name": "ipython",
    "version": 3
   },
   "file_extension": ".py",
   "mimetype": "text/x-python",
   "name": "python",
   "nbconvert_exporter": "python",
   "pygments_lexer": "ipython3",
   "version": "3.10.10"
  }
 },
 "nbformat": 4,
 "nbformat_minor": 5
}
