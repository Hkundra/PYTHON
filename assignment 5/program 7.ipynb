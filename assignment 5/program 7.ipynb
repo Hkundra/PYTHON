{
 "cells": [
  {
   "cell_type": "code",
   "execution_count": 2,
   "id": "374f4a18",
   "metadata": {},
   "outputs": [
    {
     "name": "stdout",
     "output_type": "stream",
     "text": [
      "The lyrics is not that good that poor!\n",
      "The lyrics is poor!\n"
     ]
    }
   ],
   "source": [
    "string1 = \"The lyrics is not that poor!\"\n",
    "string2 = \"The lyrics is poor!\"\n",
    "\n",
    "\n",
    "index_not = string1.find('not')\n",
    "index_poor = string1.find('poor')\n",
    "\n",
    "\n",
    "if index_poor < index_not or index_not == -1 or index_poor == -1:\n",
    "    result1 = string1\n",
    "else:\n",
    "\n",
    "    result1 = string1[:index_poor] + 'good' + string1[index_not+3:]\n",
    "\n",
    "\n",
    "index_not = string2.find('not')\n",
    "index_poor = string2.find('poor')\n",
    "\n",
    "if index_poor < index_not or index_not == -1 or index_poor == -1:\n",
    "    result2 = string2\n",
    "else:\n",
    "    result2 = string2[:index_poor] + 'good' + string2[index_not+3:]\n",
    "\n",
    "\n",
    "print(result1)\n",
    "print(result2)\n"
   ]
  },
  {
   "cell_type": "code",
   "execution_count": null,
   "id": "7479bed7",
   "metadata": {},
   "outputs": [],
   "source": []
  },
  {
   "cell_type": "code",
   "execution_count": null,
   "id": "6b35fded",
   "metadata": {},
   "outputs": [],
   "source": []
  }
 ],
 "metadata": {
  "kernelspec": {
   "display_name": "Python 3 (ipykernel)",
   "language": "python",
   "name": "python3"
  },
  "language_info": {
   "codemirror_mode": {
    "name": "ipython",
    "version": 3
   },
   "file_extension": ".py",
   "mimetype": "text/x-python",
   "name": "python",
   "nbconvert_exporter": "python",
   "pygments_lexer": "ipython3",
   "version": "3.10.10"
  }
 },
 "nbformat": 4,
 "nbformat_minor": 5
}
