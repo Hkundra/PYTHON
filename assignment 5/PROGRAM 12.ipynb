{
 "cells": [
  {
   "cell_type": "code",
   "execution_count": 2,
   "id": "f7a12742",
   "metadata": {},
   "outputs": [],
   "source": [
    "def UpperCase(string):\n",
    "    count=0\n",
    "    for i in string[:4]:\n",
    "        if i.isupper()==True:\n",
    "            count+=1\n",
    "    if count>=2:\n",
    "            print(string.upper())    \n",
    "            \n",
    "UpperCase('Scbh')"
   ]
  },
  {
   "cell_type": "code",
   "execution_count": null,
   "id": "dd86a811",
   "metadata": {},
   "outputs": [],
   "source": [
    "UpperCase('Mangalore')"
   ]
  },
  {
   "cell_type": "code",
   "execution_count": null,
   "id": "e2698331",
   "metadata": {},
   "outputs": [],
   "source": []
  }
 ],
 "metadata": {
  "kernelspec": {
   "display_name": "Python 3 (ipykernel)",
   "language": "python",
   "name": "python3"
  },
  "language_info": {
   "codemirror_mode": {
    "name": "ipython",
    "version": 3
   },
   "file_extension": ".py",
   "mimetype": "text/x-python",
   "name": "python",
   "nbconvert_exporter": "python",
   "pygments_lexer": "ipython3",
   "version": "3.10.10"
  }
 },
 "nbformat": 4,
 "nbformat_minor": 5
}
