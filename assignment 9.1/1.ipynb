{
 "cells": [
  {
   "cell_type": "code",
   "execution_count": null,
   "id": "a86b22b5",
   "metadata": {},
   "outputs": [
    {
     "name": "stdout",
     "output_type": "stream",
     "text": [
      "Welcome to the Cows and Bulls Game!\n",
      "Enter a 4-digit number with distinct digits: 7898\n",
      "Invalid input. Please enter a 4-digit number with distinct digits.\n",
      "Enter a 4-digit number with distinct digits: 4563\n",
      "0 cows, 1 bulls\n",
      "Enter a 4-digit number with distinct digits: 67\n",
      "Invalid input. Please enter a 4-digit number with distinct digits.\n",
      "Enter a 4-digit number with distinct digits: 5678\n",
      "0 cows, 2 bulls\n"
     ]
    }
   ],
   "source": [
    "import random\n",
    "\n",
    "def generate_random_number():\n",
    "    \"\"\"\n",
    "    This function generates a 4-digit number with distinct digits.\n",
    "    \"\"\"\n",
    "    digits = list(range(10))\n",
    "    random.shuffle(digits)\n",
    "    if digits[0] == 0:\n",
    "        \n",
    "        digits[0], digits[1] = digits[1], digits[0]\n",
    "    return digits[:4]\n",
    "\n",
    "def count_cows_and_bulls(secret_number, guess):\n",
    "    \"\"\"\n",
    "    This function counts the number of cows and bulls in a guess\n",
    "    compared to the secret number.\n",
    "    \"\"\"\n",
    "    cows = 0\n",
    "    bulls = 0\n",
    "    for i in range(4):\n",
    "        if guess[i] == secret_number[i]:\n",
    "            cows += 1\n",
    "        elif guess[i] in secret_number:\n",
    "            bulls += 1\n",
    "    return cows, bulls\n",
    "\n",
    "# Main game loop\n",
    "def play_game():\n",
    "    print(\"Welcome to the Cows and Bulls Game!\")\n",
    "    secret_number = generate_random_number()\n",
    "    num_guesses = 0\n",
    "    while True:\n",
    "        guess_str = input(\"Enter a 4-digit number with distinct digits: \")\n",
    "        guess = [int(d) for d in guess_str if d.isdigit()]\n",
    "        if len(guess) != 4 or len(set(guess)) != 4:\n",
    "            print(\"Invalid input. Please enter a 4-digit number with distinct digits.\")\n",
    "            continue\n",
    "        num_guesses += 1\n",
    "        cows, bulls = count_cows_and_bulls(secret_number, guess)\n",
    "        print(f\"{cows} cows, {bulls} bulls\")\n",
    "        if cows == 4:\n",
    "            break\n",
    "    print(f\"Congratulations! You guessed the secret number {secret_number} in {num_guesses} tries.\")\n",
    "\n",
    "if __name__ == '__main__':\n",
    "    play_game()\n"
   ]
  },
  {
   "cell_type": "code",
   "execution_count": null,
   "id": "33b7c984",
   "metadata": {},
   "outputs": [],
   "source": []
  }
 ],
 "metadata": {
  "kernelspec": {
   "display_name": "Python 3 (ipykernel)",
   "language": "python",
   "name": "python3"
  },
  "language_info": {
   "codemirror_mode": {
    "name": "ipython",
    "version": 3
   },
   "file_extension": ".py",
   "mimetype": "text/x-python",
   "name": "python",
   "nbconvert_exporter": "python",
   "pygments_lexer": "ipython3",
   "version": "3.10.10"
  }
 },
 "nbformat": 4,
 "nbformat_minor": 5
}
