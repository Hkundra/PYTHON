{
 "cells": [
  {
   "cell_type": "code",
   "execution_count": null,
   "id": "19dab98b",
   "metadata": {},
   "outputs": [],
   "source": [
    "def are_brackets_balanced(s):\n",
    "    stack = []\n",
    "    for ch in s:\n",
    "        if ch in ('(', '{', '['):\n",
    "            stack.append(ch)\n",
    "        else:\n",
    "            if stack and ((stack[-1] == '(' and ch == ')') or\n",
    "                          (stack[-1] == '{' and ch == '}') or\n",
    "                          (stack[-1] == '[' and ch == ']')):\n",
    "                stack.pop()\n",
    "                print(stack)\n",
    "            else:\n",
    "                return False\n",
    "    return  stack\n",
    " \n",
    "\n",
    "    expr = \"([)]\"\n",
    "if are_brackets_balanced(expr):\n",
    "    print(\"True\")\n",
    "else:\n",
    "    print(\"False\")"
   ]
  }
 ],
 "metadata": {
  "kernelspec": {
   "display_name": "Python 3 (ipykernel)",
   "language": "python",
   "name": "python3"
  },
  "language_info": {
   "codemirror_mode": {
    "name": "ipython",
    "version": 3
   },
   "file_extension": ".py",
   "mimetype": "text/x-python",
   "name": "python",
   "nbconvert_exporter": "python",
   "pygments_lexer": "ipython3",
   "version": "3.10.10"
  }
 },
 "nbformat": 4,
 "nbformat_minor": 5
}
