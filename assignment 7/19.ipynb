{
 "cells": [
  {
   "cell_type": "code",
   "execution_count": 1,
   "id": "06b2ed61",
   "metadata": {},
   "outputs": [
    {
     "name": "stdout",
     "output_type": "stream",
     "text": [
      "[[40], [33], [30, 56, 25], [10, 20]]\n"
     ]
    }
   ],
   "source": [
    "\n",
    "list_of_lists = [[10, 20], [40], [30, 56, 25], [10, 20], [33], [40]]\n",
    "\n",
    "\n",
    "unique_lists = set(map(tuple, list_of_lists))\n",
    "\n",
    "\n",
    "new_list_of_lists = [list(t) for t in unique_lists]\n",
    "\n",
    "\n",
    "print(new_list_of_lists) # output: [[10, 20], [33], [40], [30, 56, 25]]\n"
   ]
  },
  {
   "cell_type": "code",
   "execution_count": null,
   "id": "ec3fe5da",
   "metadata": {},
   "outputs": [],
   "source": []
  }
 ],
 "metadata": {
  "kernelspec": {
   "display_name": "Python 3 (ipykernel)",
   "language": "python",
   "name": "python3"
  },
  "language_info": {
   "codemirror_mode": {
    "name": "ipython",
    "version": 3
   },
   "file_extension": ".py",
   "mimetype": "text/x-python",
   "name": "python",
   "nbconvert_exporter": "python",
   "pygments_lexer": "ipython3",
   "version": "3.10.10"
  }
 },
 "nbformat": 4,
 "nbformat_minor": 5
}
