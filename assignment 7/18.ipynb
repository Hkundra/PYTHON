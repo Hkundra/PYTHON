{
 "cells": [
  {
   "cell_type": "code",
   "execution_count": 1,
   "id": "276dc16a",
   "metadata": {},
   "outputs": [
    {
     "name": "stdout",
     "output_type": "stream",
     "text": [
      "True\n",
      "False\n"
     ]
    }
   ],
   "source": [
    "\n",
    "list_of_dicts1 = [{},{},{}]\n",
    "list_of_dicts2 = [{1,2},{},{}]\n",
    "\n",
    "\n",
    "def all_dicts_empty(lst):\n",
    "    for d in lst:\n",
    "        if d:\n",
    "            return False\n",
    "    return True\n",
    "\n",
    "\n",
    "print(all_dicts_empty(list_of_dicts1)) # output: True\n",
    "print(all_dicts_empty(list_of_dicts2)) # output: False\n"
   ]
  },
  {
   "cell_type": "code",
   "execution_count": null,
   "id": "9bc688d6",
   "metadata": {},
   "outputs": [],
   "source": []
  }
 ],
 "metadata": {
  "kernelspec": {
   "display_name": "Python 3 (ipykernel)",
   "language": "python",
   "name": "python3"
  },
  "language_info": {
   "codemirror_mode": {
    "name": "ipython",
    "version": 3
   },
   "file_extension": ".py",
   "mimetype": "text/x-python",
   "name": "python",
   "nbconvert_exporter": "python",
   "pygments_lexer": "ipython3",
   "version": "3.10.10"
  }
 },
 "nbformat": 4,
 "nbformat_minor": 5
}
