{
 "cells": [
  {
   "cell_type": "code",
   "execution_count": null,
   "id": "6e21abab",
   "metadata": {},
   "outputs": [],
   "source": [
    "# define the sample lists\n",
    "list1 = [10, 20, 30]\n",
    "list2 = [40, 50, 60]\n",
    "\n",
    "# use the + operator to concatenate the lists\n",
    "extended_list = list2 + list1\n",
    "\n",
    "# print the result\n",
    "print(extended_list) # output: [40, 50, 60, 10, 20, 30]\n"
   ]
  }
 ],
 "metadata": {
  "kernelspec": {
   "display_name": "Python 3 (ipykernel)",
   "language": "python",
   "name": "python3"
  },
  "language_info": {
   "codemirror_mode": {
    "name": "ipython",
    "version": 3
   },
   "file_extension": ".py",
   "mimetype": "text/x-python",
   "name": "python",
   "nbconvert_exporter": "python",
   "pygments_lexer": "ipython3",
   "version": "3.10.10"
  }
 },
 "nbformat": 4,
 "nbformat_minor": 5
}
