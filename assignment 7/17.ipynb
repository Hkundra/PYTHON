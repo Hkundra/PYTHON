{
 "cells": [
  {
   "cell_type": "code",
   "execution_count": 1,
   "id": "f379b5f6",
   "metadata": {},
   "outputs": [
    {
     "name": "stdout",
     "output_type": "stream",
     "text": [
      "key1: 1 is present in both x and y\n"
     ]
    }
   ],
   "source": [
    "\n",
    "dict1 = {'key1': 1, 'key2': 3, 'key3': 2}\n",
    "dict2 = {'key1': 1, 'key2': 2}\n",
    "\n",
    "for key in dict1:\n",
    "    if key in dict2 and dict1[key] == dict2[key]:\n",
    "        print(key + ':', dict1[key], 'is present in both x and y')\n"
   ]
  },
  {
   "cell_type": "code",
   "execution_count": null,
   "id": "294e5253",
   "metadata": {},
   "outputs": [],
   "source": []
  }
 ],
 "metadata": {
  "kernelspec": {
   "display_name": "Python 3 (ipykernel)",
   "language": "python",
   "name": "python3"
  },
  "language_info": {
   "codemirror_mode": {
    "name": "ipython",
    "version": 3
   },
   "file_extension": ".py",
   "mimetype": "text/x-python",
   "name": "python",
   "nbconvert_exporter": "python",
   "pygments_lexer": "ipython3",
   "version": "3.10.10"
  }
 },
 "nbformat": 4,
 "nbformat_minor": 5
}
