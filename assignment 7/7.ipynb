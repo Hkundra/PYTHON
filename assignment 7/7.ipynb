{
 "cells": [
  {
   "cell_type": "code",
   "execution_count": 1,
   "id": "2137c399",
   "metadata": {},
   "outputs": [
    {
     "name": "stdout",
     "output_type": "stream",
     "text": [
      "{'apple': 2, 'banana': 7, 'orange': 1, 'mango': 5, 'papaya': 4}\n"
     ]
    }
   ],
   "source": [
    "# define two dictionaries to be merged\n",
    "dict1 = {'apple': 2, 'banana': 3, 'orange': 1}\n",
    "dict2 = {'mango': 5, 'papaya': 4, 'banana': 7}\n",
    "\n",
    "# merge the dictionaries and create a new dictionary\n",
    "merged_dict = {**dict1, **dict2}\n",
    "\n",
    "# print the merged dictionary\n",
    "print(merged_dict)\n"
   ]
  },
  {
   "cell_type": "code",
   "execution_count": null,
   "id": "e2f2ad0f",
   "metadata": {},
   "outputs": [],
   "source": []
  }
 ],
 "metadata": {
  "kernelspec": {
   "display_name": "Python 3 (ipykernel)",
   "language": "python",
   "name": "python3"
  },
  "language_info": {
   "codemirror_mode": {
    "name": "ipython",
    "version": 3
   },
   "file_extension": ".py",
   "mimetype": "text/x-python",
   "name": "python",
   "nbconvert_exporter": "python",
   "pygments_lexer": "ipython3",
   "version": "3.10.10"
  }
 },
 "nbformat": 4,
 "nbformat_minor": 5
}
