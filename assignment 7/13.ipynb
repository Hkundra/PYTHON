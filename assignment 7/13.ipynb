{
 "cells": [
  {
   "cell_type": "code",
   "execution_count": 1,
   "id": "b28ca87e",
   "metadata": {},
   "outputs": [
    {
     "name": "stdout",
     "output_type": "stream",
     "text": [
      "{'apple': 2, 'banana': 3, 'pear': 4}\n"
     ]
    }
   ],
   "source": [
    "my_dict = {'apple': 2, 'banana': 3, 'orange': 2, 'pear': 4, 'kiwi': 4}\n",
    "\n",
    "\n",
    "unique_dict = {}\n",
    "\n",
    "\n",
    "for key, value in my_dict.items():\n",
    "   \n",
    "    if value not in unique_dict.values():\n",
    "        unique_dict[key] = value\n",
    "\n",
    "print(unique_dict)\n"
   ]
  },
  {
   "cell_type": "code",
   "execution_count": null,
   "id": "8917373b",
   "metadata": {},
   "outputs": [],
   "source": []
  }
 ],
 "metadata": {
  "kernelspec": {
   "display_name": "Python 3 (ipykernel)",
   "language": "python",
   "name": "python3"
  },
  "language_info": {
   "codemirror_mode": {
    "name": "ipython",
    "version": 3
   },
   "file_extension": ".py",
   "mimetype": "text/x-python",
   "name": "python",
   "nbconvert_exporter": "python",
   "pygments_lexer": "ipython3",
   "version": "3.10.10"
  }
 },
 "nbformat": 4,
 "nbformat_minor": 5
}
