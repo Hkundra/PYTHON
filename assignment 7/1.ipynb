{
 "cells": [
  {
   "cell_type": "code",
   "execution_count": 1,
   "id": "e2a2a114",
   "metadata": {},
   "outputs": [
    {
     "name": "stdout",
     "output_type": "stream",
     "text": [
      "Dictionary sorted by value in ascending order:\n",
      "{'orange': 1, 'banana': 2, 'apple': 3, 'kiwi': 4, 'pear': 5}\n",
      "Dictionary sorted by value in descending order:\n",
      "{'pear': 5, 'kiwi': 4, 'apple': 3, 'banana': 2, 'orange': 1}\n"
     ]
    }
   ],
   "source": [
    "\n",
    "d = {'apple': 3, 'banana': 2, 'pear': 5, 'orange': 1, 'kiwi': 4}\n",
    "\n",
    "\n",
    "ascending_dict = dict(sorted(d.items(), key=lambda item: item[1]))\n",
    "\n",
    "\n",
    "descending_dict = dict(sorted(d.items(), key=lambda item: item[1], reverse=True))\n",
    "\n",
    "# Print the sorted dictionaries\n",
    "print(\"Dictionary sorted by value in ascending order:\")\n",
    "print(ascending_dict)\n",
    "\n",
    "print(\"Dictionary sorted by value in descending order:\")\n",
    "print(descending_dict)\n"
   ]
  },
  {
   "cell_type": "code",
   "execution_count": null,
   "id": "395285bf",
   "metadata": {},
   "outputs": [],
   "source": []
  }
 ],
 "metadata": {
  "kernelspec": {
   "display_name": "Python 3 (ipykernel)",
   "language": "python",
   "name": "python3"
  },
  "language_info": {
   "codemirror_mode": {
    "name": "ipython",
    "version": 3
   },
   "file_extension": ".py",
   "mimetype": "text/x-python",
   "name": "python",
   "nbconvert_exporter": "python",
   "pygments_lexer": "ipython3",
   "version": "3.10.10"
  }
 },
 "nbformat": 4,
 "nbformat_minor": 5
}
