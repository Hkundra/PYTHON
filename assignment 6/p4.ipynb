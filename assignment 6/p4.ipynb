{
 "cells": [
  {
   "cell_type": "code",
   "execution_count": 1,
   "id": "14f3dc88",
   "metadata": {},
   "outputs": [],
   "source": [
    "def checkTriangle(x,y,z):\n",
    "    if x==y and x!=z or y==x and y!=z or z==y and z!=x or x==z and x!=y:\n",
    "        print(\"Isosceles Triangle\")\n",
    "    elif x==y and x==z:\n",
    "        print(\"Eqilateral triangle\")\n",
    "    else:\n",
    "        print(\"Scalene triangle\")\n",
    "        "
   ]
  },
  {
   "cell_type": "code",
   "execution_count": 2,
   "id": "291012e3",
   "metadata": {},
   "outputs": [
    {
     "name": "stdout",
     "output_type": "stream",
     "text": [
      "Scalene triangle\n"
     ]
    }
   ],
   "source": [
    "checkTriangle(6,4,5)\n"
   ]
  },
  {
   "cell_type": "code",
   "execution_count": 3,
   "id": "96166dbe",
   "metadata": {},
   "outputs": [
    {
     "name": "stdout",
     "output_type": "stream",
     "text": [
      "Eqilateral triangle\n"
     ]
    }
   ],
   "source": [
    "checkTriangle(1,1,1)"
   ]
  },
  {
   "cell_type": "code",
   "execution_count": 4,
   "id": "2b881c63",
   "metadata": {},
   "outputs": [
    {
     "name": "stdout",
     "output_type": "stream",
     "text": [
      "Isosceles Triangle\n"
     ]
    }
   ],
   "source": [
    "checkTriangle(4,5,4)"
   ]
  },
  {
   "cell_type": "code",
   "execution_count": null,
   "id": "bde8b2b7",
   "metadata": {},
   "outputs": [],
   "source": []
  }
 ],
 "metadata": {
  "kernelspec": {
   "display_name": "Python 3 (ipykernel)",
   "language": "python",
   "name": "python3"
  },
  "language_info": {
   "codemirror_mode": {
    "name": "ipython",
    "version": 3
   },
   "file_extension": ".py",
   "mimetype": "text/x-python",
   "name": "python",
   "nbconvert_exporter": "python",
   "pygments_lexer": "ipython3",
   "version": "3.10.10"
  }
 },
 "nbformat": 4,
 "nbformat_minor": 5
}
