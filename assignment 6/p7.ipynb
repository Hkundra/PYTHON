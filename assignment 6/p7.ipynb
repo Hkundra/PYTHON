{
 "cells": [
  {
   "cell_type": "code",
   "execution_count": 1,
   "id": "5c94b68d",
   "metadata": {},
   "outputs": [
    {
     "name": "stdout",
     "output_type": "stream",
     "text": [
      "Number of elements greater than 30: 5\n"
     ]
    }
   ],
   "source": [
    "my_list = [15, 25, 35, 45, 55, 10, 20, 30, 40, 50]\n",
    "count = 0\n",
    "\n",
    "for num in my_list:\n",
    "    if num > 30:\n",
    "        count += 1\n",
    "\n",
    "print(\"Number of elements greater than 30:\", count)\n"
   ]
  },
  {
   "cell_type": "code",
   "execution_count": null,
   "id": "21b8a1e9",
   "metadata": {},
   "outputs": [],
   "source": []
  }
 ],
 "metadata": {
  "kernelspec": {
   "display_name": "Python 3 (ipykernel)",
   "language": "python",
   "name": "python3"
  },
  "language_info": {
   "codemirror_mode": {
    "name": "ipython",
    "version": 3
   },
   "file_extension": ".py",
   "mimetype": "text/x-python",
   "name": "python",
   "nbconvert_exporter": "python",
   "pygments_lexer": "ipython3",
   "version": "3.10.10"
  }
 },
 "nbformat": 4,
 "nbformat_minor": 5
}
