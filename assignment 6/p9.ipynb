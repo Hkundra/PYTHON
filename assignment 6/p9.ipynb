{
 "cells": [
  {
   "cell_type": "code",
   "execution_count": 1,
   "id": "d2fe0ac7",
   "metadata": {},
   "outputs": [
    {
     "name": "stdout",
     "output_type": "stream",
     "text": [
      "Enter the quantity: 2\n",
      "Total cost: 200\n"
     ]
    }
   ],
   "source": [
    "quantity = int(input(\"Enter the quantity: \"))\n",
    "price_per_unit = 100\n",
    "total_cost = quantity * price_per_unit\n",
    "\n",
    "if total_cost > 1000:\n",
    "    total_cost *= 0.9\n",
    "\n",
    "print(\"Total cost:\", total_cost)\n"
   ]
  },
  {
   "cell_type": "code",
   "execution_count": null,
   "id": "c33dec4c",
   "metadata": {},
   "outputs": [],
   "source": []
  }
 ],
 "metadata": {
  "kernelspec": {
   "display_name": "Python 3 (ipykernel)",
   "language": "python",
   "name": "python3"
  },
  "language_info": {
   "codemirror_mode": {
    "name": "ipython",
    "version": 3
   },
   "file_extension": ".py",
   "mimetype": "text/x-python",
   "name": "python",
   "nbconvert_exporter": "python",
   "pygments_lexer": "ipython3",
   "version": "3.10.10"
  }
 },
 "nbformat": 4,
 "nbformat_minor": 5
}
