{
 "cells": [
  {
   "cell_type": "code",
   "execution_count": 1,
   "id": "996b9a24",
   "metadata": {},
   "outputs": [
    {
     "name": "stdout",
     "output_type": "stream",
     "text": [
      "Enter the lenght of rectangle : 2\n",
      "Enter the breadth of rectangle: 6\n",
      "It's not a square\n"
     ]
    }
   ],
   "source": [
    "length=int(input(\"Enter the lenght of rectangle : \"))\n",
    "breadth=int(input(\"Enter the breadth of rectangle: \"))\n",
    "if length==breadth:\n",
    "    print(\"It's a Square\")\n",
    "else:\n",
    "    print(\"It's not a square\")"
   ]
  },
  {
   "cell_type": "code",
   "execution_count": null,
   "id": "efdbbbfe",
   "metadata": {},
   "outputs": [],
   "source": []
  }
 ],
 "metadata": {
  "kernelspec": {
   "display_name": "Python 3 (ipykernel)",
   "language": "python",
   "name": "python3"
  },
  "language_info": {
   "codemirror_mode": {
    "name": "ipython",
    "version": 3
   },
   "file_extension": ".py",
   "mimetype": "text/x-python",
   "name": "python",
   "nbconvert_exporter": "python",
   "pygments_lexer": "ipython3",
   "version": "3.10.10"
  }
 },
 "nbformat": 4,
 "nbformat_minor": 5
}
