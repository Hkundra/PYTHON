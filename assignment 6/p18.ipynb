{
 "cells": [
  {
   "cell_type": "code",
   "execution_count": 1,
   "id": "8b738b9b",
   "metadata": {},
   "outputs": [
    {
     "ename": "NameError",
     "evalue": "name 'even' is not defined",
     "output_type": "error",
     "traceback": [
      "\u001b[1;31m---------------------------------------------------------------------------\u001b[0m",
      "\u001b[1;31mNameError\u001b[0m                                 Traceback (most recent call last)",
      "Cell \u001b[1;32mIn[1], line 2\u001b[0m\n\u001b[0;32m      1\u001b[0m newList\u001b[38;5;241m=\u001b[39m[]\n\u001b[1;32m----> 2\u001b[0m \u001b[38;5;28;01mfor\u001b[39;00m i \u001b[38;5;129;01min\u001b[39;00m \u001b[43meven\u001b[49m \u001b[38;5;129;01mand\u001b[39;00m odd :\n\u001b[0;32m      3\u001b[0m     \u001b[38;5;28;01mif\u001b[39;00m i\u001b[38;5;241m%\u001b[39m\u001b[38;5;241m4\u001b[39m\u001b[38;5;241m==\u001b[39m\u001b[38;5;241m0\u001b[39m \u001b[38;5;129;01mor\u001b[39;00m i\u001b[38;5;241m%\u001b[39m\u001b[38;5;241m6\u001b[39m\u001b[38;5;241m==\u001b[39m\u001b[38;5;241m0\u001b[39m \u001b[38;5;129;01mor\u001b[39;00m i\u001b[38;5;241m%\u001b[39m\u001b[38;5;241m8\u001b[39m\u001b[38;5;241m==\u001b[39m\u001b[38;5;241m0\u001b[39m \u001b[38;5;129;01mor\u001b[39;00m i\u001b[38;5;241m%\u001b[39m\u001b[38;5;241m10\u001b[39m\u001b[38;5;241m==\u001b[39m\u001b[38;5;241m0\u001b[39m \u001b[38;5;129;01mor\u001b[39;00m i\u001b[38;5;241m%\u001b[39m\u001b[38;5;241m3\u001b[39m \u001b[38;5;129;01mor\u001b[39;00m i\u001b[38;5;241m%\u001b[39m\u001b[38;5;241m5\u001b[39m\u001b[38;5;241m==\u001b[39m\u001b[38;5;241m0\u001b[39m \u001b[38;5;129;01mor\u001b[39;00m i\u001b[38;5;241m%\u001b[39m\u001b[38;5;241m7\u001b[39m\u001b[38;5;241m==\u001b[39m\u001b[38;5;241m0\u001b[39m \u001b[38;5;129;01mor\u001b[39;00m  i\u001b[38;5;241m%\u001b[39m\u001b[38;5;241m9\u001b[39m\u001b[38;5;241m==\u001b[39m\u001b[38;5;241m0\u001b[39m:\n\u001b[0;32m      4\u001b[0m         newList\u001b[38;5;241m.\u001b[39mappend(i)\n",
      "\u001b[1;31mNameError\u001b[0m: name 'even' is not defined"
     ]
    }
   ],
   "source": [
    "\n",
    "newList=[]\n",
    "for i in even and odd :\n",
    "    if i%4==0 or i%6==0 or i%8==0 or i%10==0 or i%3 or i%5==0 or i%7==0 or  i%9==0:\n",
    "        newList.append(i)\n",
    "print(newList)"
   ]
  },
  {
   "cell_type": "code",
   "execution_count": null,
   "id": "7b1c28f3",
   "metadata": {},
   "outputs": [],
   "source": []
  }
 ],
 "metadata": {
  "kernelspec": {
   "display_name": "Python 3 (ipykernel)",
   "language": "python",
   "name": "python3"
  },
  "language_info": {
   "codemirror_mode": {
    "name": "ipython",
    "version": 3
   },
   "file_extension": ".py",
   "mimetype": "text/x-python",
   "name": "python",
   "nbconvert_exporter": "python",
   "pygments_lexer": "ipython3",
   "version": "3.10.10"
  }
 },
 "nbformat": 4,
 "nbformat_minor": 5
}
